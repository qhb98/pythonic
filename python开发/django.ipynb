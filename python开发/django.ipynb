{
 "cells": [
  {
   "cell_type": "markdown",
   "source": [
    "## ORM\n",
    "对象关系映射模式 object relational mapping, 是一种为了解决面向对象与关系型数据库存在的互不匹配的现象的技术.\n",
    "简单来说, ORM是通过使用描述对象和数据库之间映射的元数据, 将程序中的对象自动持久化到关系型数据库中.\n",
    "通过硬编码的方式实现持久化, 为每一种可能的数据库访问操作提供单独的方法.\n",
    "\n",
    "但是, 这种方案存在以下不足:\n",
    "1. 持久化层缺乏弹性, 一旦出现业务需求的变更, 就必须修改持久化层的接口\n",
    "2. 持久化层同时与域模型与关系型数据库模型绑定, 不管域模型还是关系数据库模型发生变化, 都要修改持久化层的相关程序代码, 增加了软件的维护难度.\n",
    "\n",
    "ORM提供了实现持久化层的另一种模式, 采用映射元数据来描述对象关系的映射, 使得ORM中间件可以在任何一个应用的业务逻辑层和数据库层之间充当桥梁.\n",
    "\n",
    "ORM的方法论基于三个核心原则:\n",
    "1. 简单. 以最基本的形式建模数据\n",
    "2. 传达性. 数据库结构被任何人都能理解的语言文档化\n",
    "3. 精确性. 基于数据模型创建正确标准化了的结构\n",
    "\n",
    "ORM解决的主要问题是对象关系的映射. 域模型和关系模型分别是建立在概念模型的基础上的. 域模型是面向对象的, 而关系模型是面向关系的.\n",
    "一般情况下, 一个持久化类和一个表对应, 类的每个实例对应表中的一条记录, 类的每个属性对应表的字段\n",
    "\n",
    "ORM技术特点:\n",
    "1. 提高开发效率, 自动对entity对象与数据库中的table进行字段与属性的映射\n",
    "2. ORM提供了对数据库的映射, 不同sql直接编码, 能够像操作对象一样从数据库获取数据\n",
    "\n",
    "但是ORM会牺牲程序的执行效率和固定思维模式\n",
    "从系统结构来看, 采用ORM的系统一般都是多层系统, 对性能会产生一定的影响\n",
    "\n",
    "\n",
    "\n"
   ],
   "metadata": {
    "collapsed": false,
    "pycharm": {
     "name": "#%% md\n"
    }
   }
  },
  {
   "cell_type": "markdown",
   "source": [],
   "metadata": {
    "collapsed": false,
    "pycharm": {
     "name": "#%% md\n"
    }
   }
  },
  {
   "cell_type": "markdown",
   "source": [],
   "metadata": {
    "collapsed": false,
    "pycharm": {
     "name": "#%% md\n"
    }
   }
  },
  {
   "cell_type": "markdown",
   "source": [],
   "metadata": {
    "collapsed": false,
    "pycharm": {
     "name": "#%% md\n"
    }
   }
  },
  {
   "cell_type": "markdown",
   "source": [],
   "metadata": {
    "collapsed": false,
    "pycharm": {
     "name": "#%% md\n"
    }
   }
  },
  {
   "cell_type": "markdown",
   "source": [],
   "metadata": {
    "collapsed": false,
    "pycharm": {
     "name": "#%% md\n"
    }
   }
  }
 ],
 "metadata": {
  "kernelspec": {
   "display_name": "Python 3",
   "language": "python",
   "name": "python3"
  },
  "language_info": {
   "codemirror_mode": {
    "name": "ipython",
    "version": 2
   },
   "file_extension": ".py",
   "mimetype": "text/x-python",
   "name": "python",
   "nbconvert_exporter": "python",
   "pygments_lexer": "ipython2",
   "version": "2.7.6"
  }
 },
 "nbformat": 4,
 "nbformat_minor": 0
}