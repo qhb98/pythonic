{
 "cells": [
  {
   "cell_type": "markdown",
   "source": [
    "# python 类的约定"
   ],
   "metadata": {
    "collapsed": false,
    "pycharm": {
     "name": "#%% md\n"
    }
   }
  },
  {
   "cell_type": "markdown",
   "source": [
    "## 优化类的大小\n",
    "1. single responsibility principle 单一职责原则 SRP\n",
    "2. 评估每个方法和代码单元的适合性\n",
    "3. 找到重复或者复制的代码将其拆分 DRY"
   ],
   "metadata": {
    "collapsed": false,
    "pycharm": {
     "name": "#%% md\n"
    }
   }
  },
  {
   "cell_type": "markdown",
   "source": [
    "## 理想的类结构\n",
    "Class\n",
    "---------------------------\n",
    "    类变量\n",
    "---------------------------\n",
    "    init方法\n",
    "---------------------------\n",
    "    特殊的方法/魔术方法\n",
    "---------------------------\n",
    "    类方法 @classmethod\n",
    "---------------------------\n",
    "    静态方法 @staticmethod\n",
    "---------------------------\n",
    "    私有方法\n",
    "---------------------------\n",
    "    实例方法"
   ],
   "metadata": {
    "collapsed": false,
    "pycharm": {
     "name": "#%% md\n"
    }
   }
  },
  {
   "cell_type": "markdown",
   "source": [
    "## 类的装饰器 @property\n",
    "我们可以使用@property装饰器来创建只读属性, @property装饰器会将方法转换为相同名称的只读属性, 可以与所定义的属性配合使用, 这样可以防止属性被修改.\n",
    "防御编程的理念"
   ],
   "metadata": {
    "collapsed": false,
    "pycharm": {
     "name": "#%% md\n"
    }
   }
  },
  {
   "cell_type": "code",
   "execution_count": 6,
   "outputs": [
    {
     "name": "stdout",
     "output_type": "stream",
     "text": [
      "16\n"
     ]
    }
   ],
   "source": [
    "# high level\n",
    "class Square:\n",
    "\n",
    "    def __init__(self):\n",
    "        self._side = None\n",
    "\n",
    "    @property\n",
    "    def side(self):\n",
    "        return self._side\n",
    "\n",
    "    @side.setter\n",
    "    def side(self, side):\n",
    "        assert side >= 0, \"边长不能为负数\"\n",
    "        self._side = side\n",
    "\n",
    "    @side.deleter\n",
    "    def side(self):\n",
    "        self._side = 0\n",
    "\n",
    "    @property\n",
    "    def area(self):\n",
    "        return self.side * self.side\n",
    "\n",
    "\n",
    "square = Square()\n",
    "square.side = 4\n",
    "print(square.area)"
   ],
   "metadata": {
    "collapsed": false,
    "pycharm": {
     "name": "#%%\n"
    }
   }
  },
  {
   "cell_type": "code",
   "execution_count": 3,
   "outputs": [
    {
     "name": "stdout",
     "output_type": "stream",
     "text": [
      "0 0\n"
     ]
    }
   ],
   "source": [
    "del square.side\n",
    "print(square.side, square.area)"
   ],
   "metadata": {
    "collapsed": false,
    "pycharm": {
     "name": "#%%\n"
    }
   }
  },
  {
   "cell_type": "markdown",
   "source": [
    "## 类的装饰器 @staticmethod\n",
    "静态方法就是类对外部函数的封装, 有助于优化代码结构和提高程序的可读性"
   ],
   "metadata": {
    "collapsed": false,
    "pycharm": {
     "name": "#%% md\n"
    }
   }
  },
  {
   "cell_type": "markdown",
   "source": [
    "## 类的装饰器 @classmethod\n",
    "classmethod是用来指定一个类的方法为类方法, 没有此参数指定的类的方法为实例方法\n",
    "好处就是你以后重构类的时候不必要修改构造函数, 只需要额外添加你要处理的函数, 然后使用装饰符 @classmethod 就可以了"
   ],
   "metadata": {
    "collapsed": false,
    "pycharm": {
     "name": "#%% md\n"
    }
   }
  },
  {
   "cell_type": "code",
   "execution_count": null,
   "outputs": [],
   "source": [
    "# 初始类：\n",
    "class Datatest(object):\n",
    "    def __init__(self, year=0, month=0, day=0):\n",
    "        self.day = day\n",
    "        self.month = month\n",
    "        self.year = year\n",
    "\n",
    "    def out_date(self):\n",
    "        print(\"year :\", self.year)\n",
    "        print(\"month :\", self.month)\n",
    "        print(\"day :\", self.day)\n",
    "\n",
    "\n",
    "# 新增功能：\n",
    "class Str2IntParam(Datatest):\n",
    "    @classmethod\n",
    "    def get_date(cls, string_date):\n",
    "        #这里第一个参数是cls， 表示调用当前的类名\n",
    "        year, month, day = map(int, string_date.split('-'))\n",
    "        date1 = cls(year, month, day)\n",
    "        #返回的是一个初始化后的类\n",
    "        return date1\n",
    "\n",
    "\n",
    "# 使用：\n",
    "r = Str2IntParam.get_date(\"2016-8-1\")\n",
    "r.out_date()"
   ],
   "metadata": {
    "collapsed": false,
    "pycharm": {
     "name": "#%%\n"
    }
   }
  },
  {
   "cell_type": "markdown",
   "source": [
    "## 类的属性 protected public private\n",
    "_xx 以单下划线开头表示的是protected类型的变量或者方法, 保护类型只能允许其本身与子类进行访问\n",
    "\n",
    "__xx 双下划线表示的是私有类型的变量或者方法, private类型只能允许类内进行访问"
   ],
   "metadata": {
    "collapsed": false,
    "pycharm": {
     "name": "#%% md\n"
    }
   }
  },
  {
   "cell_type": "markdown",
   "source": [
    "## super()"
   ],
   "metadata": {
    "collapsed": false,
    "pycharm": {
     "name": "#%% md\n"
    }
   }
  },
  {
   "cell_type": "markdown",
   "source": [
    "## 类的封装\n",
    "“封装”就是将抽象得到的数据和行为(或功能)相结合, 形成一个有机的整体（即类）"
   ],
   "metadata": {
    "collapsed": false,
    "pycharm": {
     "name": "#%% md\n"
    }
   }
  },
  {
   "cell_type": "code",
   "execution_count": null,
   "outputs": [],
   "source": [],
   "metadata": {
    "collapsed": false,
    "pycharm": {
     "name": "#%%\n"
    }
   }
  },
  {
   "cell_type": "code",
   "execution_count": null,
   "outputs": [],
   "source": [],
   "metadata": {
    "collapsed": false,
    "pycharm": {
     "name": "#%%\n"
    }
   }
  },
  {
   "cell_type": "code",
   "execution_count": null,
   "outputs": [],
   "source": [],
   "metadata": {
    "collapsed": false,
    "pycharm": {
     "name": "#%%\n"
    }
   }
  },
  {
   "cell_type": "code",
   "execution_count": null,
   "outputs": [],
   "source": [],
   "metadata": {
    "collapsed": false,
    "pycharm": {
     "name": "#%%\n"
    }
   }
  },
  {
   "cell_type": "code",
   "execution_count": null,
   "outputs": [],
   "source": [],
   "metadata": {
    "collapsed": false,
    "pycharm": {
     "name": "#%%\n"
    }
   }
  },
  {
   "cell_type": "code",
   "execution_count": null,
   "outputs": [],
   "source": [],
   "metadata": {
    "collapsed": false,
    "pycharm": {
     "name": "#%%\n"
    }
   }
  }
 ],
 "metadata": {
  "kernelspec": {
   "display_name": "Python 3",
   "language": "python",
   "name": "python3"
  },
  "language_info": {
   "codemirror_mode": {
    "name": "ipython",
    "version": 2
   },
   "file_extension": ".py",
   "mimetype": "text/x-python",
   "name": "python",
   "nbconvert_exporter": "python",
   "pygments_lexer": "ipython2",
   "version": "2.7.6"
  }
 },
 "nbformat": 4,
 "nbformat_minor": 0
}