{
 "cells": [
  {
   "cell_type": "markdown",
   "source": [
    "# python 类的约定"
   ],
   "metadata": {
    "collapsed": false,
    "pycharm": {
     "name": "#%% md\n"
    }
   }
  },
  {
   "cell_type": "markdown",
   "source": [
    "## 优化类的大小\n",
    "1. single responsibility principle 单一职责原则 SRP\n",
    "2. 评估每个方法和代码单元的适合性\n",
    "3. 找到重复或者复制的代码将其拆分 DRY"
   ],
   "metadata": {
    "collapsed": false,
    "pycharm": {
     "name": "#%% md\n"
    }
   }
  },
  {
   "cell_type": "markdown",
   "source": [
    "## 理想的类结构\n",
    "Class\n",
    "---------------------------\n",
    "    类变量\n",
    "---------------------------\n",
    "    init方法\n",
    "---------------------------\n",
    "    特殊的方法/魔术方法\n",
    "---------------------------\n",
    "    类方法 @classmethod\n",
    "        Python 类方法和实例方法相似，它最少也要包含一个参数，只不过类方法中通常将其命名为 cls，Python 会自动将类本身绑定给 cls 参数（注意，绑定的不是类对象）。也就是说，我们在调用类方法时，无需显式为 cls 参数传参。\n",
    "---------------------------\n",
    "    静态方法 @staticmethod\n",
    "        静态方法，其实就是我们学过的函数，和函数唯一的区别是，静态方法定义在类这个空间（类命名空间）中，而函数则定义在程序所在的空间（全局命名空间）中\n",
    "---------------------------\n",
    "    私有方法\n",
    "---------------------------\n",
    "    实例方法\n",
    "        实例方法最大的特点就是, 它最少也要包含一个 self 参数, 用于绑定调用此方法的实例对象(Python 会自动完成绑定). 实例方法通常会用类对象直接调用"
   ],
   "metadata": {
    "collapsed": false,
    "pycharm": {
     "name": "#%% md\n"
    }
   }
  },
  {
   "cell_type": "code",
   "execution_count": null,
   "outputs": [],
   "source": [
    "class SideBar:\n",
    "    # 类变量\n",
    "    DIV: str = \"div\"\n",
    "    H1: str = \"h1\"\n",
    "    MORE: str = \"more\"\n",
    "    MORE_ITEMS_LENGTH: int = 3\n",
    "    SHOULD_COMPRESS_HTML: bool = True\n",
    "\n",
    "    # init方法\n",
    "    def __int__(self,\n",
    "                title: str,\n",
    "                menu_items: [str],\n",
    "                more: str = MORE,\n",
    "                more_items_length: int = MORE_ITEMS_LENGTH,\n",
    "                should_compress_html: bool = SHOULD_COMPRESS_HTML) -> None:\n",
    "        self.title = title\n",
    "        self.more = more\n",
    "        self.should_compress_html = should_compress_html\n",
    "        self.menu_items = menu_items\n",
    "\n",
    "    # 特殊方法\n",
    "    def __len__(self):\n",
    "        return len(self.menu_items)\n",
    "\n",
    "    def __repr__(self):\n",
    "        return f'SideBae: {len(self)} menu items'\n",
    "\n",
    "    # 类方法\n",
    "    @classmethod\n",
    "    def _header(cls, title):\n",
    "        return cls._build_header(cls.H1, title)\n",
    "\n",
    "    @classmethod\n",
    "    def _body(cls, menu_items: [str], should_compress_html: bool) -> str:\n",
    "        join_char = '' if should_compress_html else '\\n'\n",
    "        return join_char.join(list(cls._build_body(cls.DIV, menu_items)))\n",
    "\n",
    "    @classmethod\n",
    "    def _more(cls, more):\n",
    "        return cls._build_more(cls.DIV, more)\n",
    "\n",
    "    # 静态方法\n",
    "    @staticmethod\n",
    "    def _build_header(tag_name: str, title: str) -> str:\n",
    "        return f'<{tag_name}>{title}</{tag_name}>'\n",
    "\n",
    "    @staticmethod\n",
    "    def _build_body(tag_name: str, menu_items: [str]) -> str:\n",
    "        for menu_item in menu_items:\n",
    "            yield f'<{tag_name}>{menu_item}</{tag_name}>'\n",
    "\n",
    "    @staticmethod\n",
    "    def _build_more(tag_name: str, text: str) -> str:\n",
    "        return f'<{tag_name}><{text}></{tag_name}>'\n",
    "\n",
    "    @staticmethod\n",
    "    def _get_split_char(should_compress_html: bool) -> str:\n",
    "        return \"\" if should_compress_html else \"\\n\"\n",
    "\n",
    "    def _is_few_items(self):\n",
    "        return len(self) < 10\n",
    "\n",
    "    def build(self) -> str:\n",
    "        header = self._header(self.title)\n",
    "        body = self._body(self.menu_items, self.should_compress_html)\n",
    "        footer = self._more(self.more) if self._is_few_items() else \"\"\n",
    "        split_char = self._get_split_char(self.should_compress_html)\n",
    "        html = split_char.join([header, body, footer])\n",
    "        return html\n",
    "\n"
   ],
   "metadata": {
    "collapsed": false,
    "pycharm": {
     "name": "#%%\n",
     "is_executing": true
    }
   }
  },
  {
   "cell_type": "markdown",
   "source": [
    "## 类的装饰器 @property\n",
    "我们可以使用@property装饰器来创建只读属性, @property装饰器会将方法转换为相同名称的只读属性, 可以与所定义的属性配合使用, 这样可以防止属性被修改.\n",
    "防御编程的理念"
   ],
   "metadata": {
    "collapsed": false,
    "pycharm": {
     "name": "#%% md\n"
    }
   }
  },
  {
   "cell_type": "code",
   "execution_count": 6,
   "outputs": [
    {
     "name": "stdout",
     "output_type": "stream",
     "text": [
      "16\n"
     ]
    }
   ],
   "source": [
    "# high level\n",
    "class Square:\n",
    "\n",
    "    def __init__(self):\n",
    "        self._side = None\n",
    "\n",
    "    @property\n",
    "    def side(self):\n",
    "        return self._side\n",
    "\n",
    "    @side.setter\n",
    "    def side(self, side):\n",
    "        assert side >= 0, \"边长不能为负数\"\n",
    "        self._side = side\n",
    "\n",
    "    @side.deleter\n",
    "    def side(self):\n",
    "        self._side = 0\n",
    "\n",
    "    @property\n",
    "    def area(self):\n",
    "        return self.side * self.side\n",
    "\n",
    "\n",
    "square = Square()\n",
    "square.side = 4\n",
    "print(square.area)"
   ],
   "metadata": {
    "collapsed": false,
    "pycharm": {
     "name": "#%%\n"
    }
   }
  },
  {
   "cell_type": "code",
   "execution_count": 3,
   "outputs": [
    {
     "name": "stdout",
     "output_type": "stream",
     "text": [
      "0 0\n"
     ]
    }
   ],
   "source": [
    "del square.side\n",
    "print(square.side, square.area)"
   ],
   "metadata": {
    "collapsed": false,
    "pycharm": {
     "name": "#%%\n"
    }
   }
  },
  {
   "cell_type": "markdown",
   "source": [
    "## 类的装饰器 @staticmethod\n",
    "静态方法就是类对外部函数的封装, 有助于优化代码结构和提高程序的可读性"
   ],
   "metadata": {
    "collapsed": false,
    "pycharm": {
     "name": "#%% md\n"
    }
   }
  },
  {
   "cell_type": "markdown",
   "source": [
    "## 类的装饰器 @classmethod\n",
    "classmethod是用来指定一个类的方法为类方法, 没有此参数指定的类的方法为实例方法\n",
    "好处就是你以后重构类的时候不必要修改构造函数, 只需要额外添加你要处理的函数, 然后使用装饰符 @classmethod 就可以了"
   ],
   "metadata": {
    "collapsed": false,
    "pycharm": {
     "name": "#%% md\n"
    }
   }
  },
  {
   "cell_type": "code",
   "execution_count": null,
   "outputs": [],
   "source": [
    "# 初始类：\n",
    "class Datatest(object):\n",
    "    def __init__(self, year=0, month=0, day=0):\n",
    "        self.day = day\n",
    "        self.month = month\n",
    "        self.year = year\n",
    "\n",
    "    def out_date(self):\n",
    "        print(\"year :\", self.year)\n",
    "        print(\"month :\", self.month)\n",
    "        print(\"day :\", self.day)\n",
    "\n",
    "\n",
    "# 新增功能：\n",
    "class Str2IntParam(Datatest):\n",
    "    @classmethod\n",
    "    def get_date(cls, string_date):\n",
    "        #这里第一个参数是cls， 表示调用当前的类名\n",
    "        year, month, day = map(int, string_date.split('-'))\n",
    "        date1 = cls(year, month, day)\n",
    "        #返回的是一个初始化后的类\n",
    "        return date1\n",
    "\n",
    "\n",
    "# 使用：\n",
    "r = Str2IntParam.get_date(\"2016-8-1\")\n",
    "r.out_date()"
   ],
   "metadata": {
    "collapsed": false,
    "pycharm": {
     "name": "#%%\n"
    }
   }
  },
  {
   "cell_type": "markdown",
   "source": [
    "## 类的属性 protected public private\n",
    "_xx 以单下划线开头表示的是protected类型的变量或者方法, 保护类型只能允许其本身与子类进行访问\n",
    "\n",
    "__xx 双下划线表示的是私有类型的变量或者方法, private类型只能允许类内进行访问"
   ],
   "metadata": {
    "collapsed": false,
    "pycharm": {
     "name": "#%% md\n"
    }
   }
  },
  {
   "cell_type": "markdown",
   "source": [
    "## super()"
   ],
   "metadata": {
    "collapsed": false,
    "pycharm": {
     "name": "#%% md\n"
    }
   }
  },
  {
   "cell_type": "markdown",
   "source": [
    "## 类的封装\n",
    "“封装”就是将抽象得到的数据和行为(或功能)相结合, 形成一个有机的整体（即类）\n",
    "\n",
    "\n",
    "\n"
   ],
   "metadata": {
    "collapsed": false,
    "pycharm": {
     "name": "#%% md\n"
    }
   }
  },
  {
   "cell_type": "markdown",
   "source": [
    "## 设计模式\n",
    "design pattern 是前辈们对代码开发经验的总结, 是解决特定问题的一系列套路, 是一套用来提高代码可复用性、可维护性、可读性、稳健性以及安全性的解决方案.\n",
    "\n",
    "基本要素: 模式名称  问题 解决方案 效果\n",
    "GoF23：\n",
    "创建型模式 -- 单例模式 工厂模式 抽象工厂模式 建造者模式 原型模式\n",
    "结构型模式 -- 适配器模式 桥接模式 装饰模式 组合模式 外观模式 亨元模式 代理模式\n",
    "行为型模式 -- 模板方法模式 命令模式 迭代器模式 观察者模式 中介者模式 备忘录模式 解释器模式 状态模式 策略模式 职责链模式 访问者模式\n",
    "\n",
    "\n",
    "## OOP7大原则\n",
    "    开闭原则 -- 对扩展开发 对修改关闭\n",
    "    里氏替换原则  --  继承必须确保超类所拥有的性质在子类中仍然成立\n",
    "    依赖倒置原则  --  面向接口编程 而不是面向实现编程\n",
    "    单一职责原则  --  控制类的粒度大小 将对象解耦 提高内聚\n",
    "    接口隔离原则  --  为各个类建立需要的专用接口\n",
    "    迪米特法则  --  只与直接朋友交谈\n",
    "    合成复用原则  --  尽量先使用组合或聚合等关联关系实现, 其次考虑使用继承关系实现\n",
    "\n",
    "### 工厂模式\n",
    "\n",
    "\n",
    "### 抽象工厂模式\n",
    "\n"
   ],
   "metadata": {
    "collapsed": false,
    "pycharm": {
     "name": "#%% md\n"
    }
   }
  },
  {
   "cell_type": "markdown",
   "source": [
    "## 数据类\n",
    " c c++ 的结构体\n"
   ],
   "metadata": {
    "collapsed": false,
    "pycharm": {
     "name": "#%% md\n"
    }
   }
  },
  {
   "cell_type": "code",
   "execution_count": 3,
   "outputs": [
    {
     "name": "stdout",
     "output_type": "stream",
     "text": [
      "Team(name='Manu', age=144) Team(name='Liverpool', age=132)\n",
      "True\n",
      "Disassembly of __eq__:\n",
      "  3           0 LOAD_FAST                1 (other)\n",
      "              2 LOAD_ATTR                0 (__class__)\n",
      "              4 LOAD_FAST                0 (self)\n",
      "              6 LOAD_ATTR                0 (__class__)\n",
      "              8 COMPARE_OP               8 (is)\n",
      "             10 POP_JUMP_IF_FALSE       36\n",
      "\n",
      "  4          12 LOAD_FAST                0 (self)\n",
      "             14 LOAD_ATTR                1 (name)\n",
      "             16 LOAD_FAST                0 (self)\n",
      "             18 LOAD_ATTR                2 (age)\n",
      "             20 BUILD_TUPLE              2\n",
      "             22 LOAD_FAST                1 (other)\n",
      "             24 LOAD_ATTR                1 (name)\n",
      "             26 LOAD_FAST                1 (other)\n",
      "             28 LOAD_ATTR                2 (age)\n",
      "             30 BUILD_TUPLE              2\n",
      "             32 COMPARE_OP               2 (==)\n",
      "             34 RETURN_VALUE\n",
      "\n",
      "  5     >>   36 LOAD_GLOBAL              3 (NotImplemented)\n",
      "             38 RETURN_VALUE\n",
      "\n",
      "Disassembly of __init__:\n",
      "  3           0 LOAD_FAST                1 (name)\n",
      "              2 LOAD_FAST                0 (self)\n",
      "              4 STORE_ATTR               0 (name)\n",
      "\n",
      "  4           6 LOAD_FAST                2 (age)\n",
      "              8 LOAD_FAST                0 (self)\n",
      "             10 STORE_ATTR               1 (age)\n",
      "             12 LOAD_CONST               0 (None)\n",
      "             14 RETURN_VALUE\n",
      "\n",
      "Disassembly of __repr__:\n",
      "352           0 LOAD_GLOBAL              0 (id)\n",
      "              2 LOAD_FAST                0 (self)\n",
      "              4 CALL_FUNCTION            1\n",
      "              6 LOAD_GLOBAL              1 (_thread)\n",
      "              8 LOAD_METHOD              2 (get_ident)\n",
      "             10 CALL_METHOD              0\n",
      "             12 BUILD_TUPLE              2\n",
      "             14 STORE_FAST               1 (key)\n",
      "\n",
      "353          16 LOAD_FAST                1 (key)\n",
      "             18 LOAD_DEREF               0 (repr_running)\n",
      "             20 COMPARE_OP               6 (in)\n",
      "             22 POP_JUMP_IF_FALSE       28\n",
      "\n",
      "354          24 LOAD_CONST               1 ('...')\n",
      "             26 RETURN_VALUE\n",
      "\n",
      "355     >>   28 LOAD_DEREF               0 (repr_running)\n",
      "             30 LOAD_METHOD              3 (add)\n",
      "             32 LOAD_FAST                1 (key)\n",
      "             34 CALL_METHOD              1\n",
      "             36 POP_TOP\n",
      "\n",
      "356          38 SETUP_FINALLY           12 (to 52)\n",
      "\n",
      "357          40 LOAD_DEREF               1 (user_function)\n",
      "             42 LOAD_FAST                0 (self)\n",
      "             44 CALL_FUNCTION            1\n",
      "             46 STORE_FAST               2 (result)\n",
      "             48 POP_BLOCK\n",
      "             50 LOAD_CONST               0 (None)\n",
      "\n",
      "359     >>   52 LOAD_DEREF               0 (repr_running)\n",
      "             54 LOAD_METHOD              4 (discard)\n",
      "             56 LOAD_FAST                1 (key)\n",
      "             58 CALL_METHOD              1\n",
      "             60 POP_TOP\n",
      "             62 END_FINALLY\n",
      "\n",
      "360          64 LOAD_FAST                2 (result)\n",
      "             66 RETURN_VALUE\n",
      "\n"
     ]
    }
   ],
   "source": [
    "from dis import dis\n",
    "from dataclasses import dataclass\n",
    "@dataclass\n",
    "class Team:\n",
    "    name: str\n",
    "    age: int\n",
    "\n",
    "manu = Team(\"Manu\", 144)\n",
    "other_mamu = Team(\"Manu\", 144)\n",
    "liver_pool = Team(\"Liverpool\", 132)\n",
    "print(manu, liver_pool)\n",
    "print(manu == other_mamu)\n",
    "dis(Team)"
   ],
   "metadata": {
    "collapsed": false,
    "pycharm": {
     "name": "#%%\n"
    }
   }
  },
  {
   "cell_type": "code",
   "execution_count": null,
   "outputs": [],
   "source": [],
   "metadata": {
    "collapsed": false,
    "pycharm": {
     "name": "#%%\n"
    }
   }
  },
  {
   "cell_type": "code",
   "execution_count": null,
   "outputs": [],
   "source": [],
   "metadata": {
    "collapsed": false,
    "pycharm": {
     "name": "#%%\n"
    }
   }
  },
  {
   "cell_type": "code",
   "execution_count": null,
   "outputs": [],
   "source": [],
   "metadata": {
    "collapsed": false,
    "pycharm": {
     "name": "#%%\n"
    }
   }
  }
 ],
 "metadata": {
  "kernelspec": {
   "display_name": "Python 3",
   "language": "python",
   "name": "python3"
  },
  "language_info": {
   "codemirror_mode": {
    "name": "ipython",
    "version": 2
   },
   "file_extension": ".py",
   "mimetype": "text/x-python",
   "name": "python",
   "nbconvert_exporter": "python",
   "pygments_lexer": "ipython2",
   "version": "2.7.6"
  }
 },
 "nbformat": 4,
 "nbformat_minor": 0
}